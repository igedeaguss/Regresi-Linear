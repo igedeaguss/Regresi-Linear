{
 "cells": [
  {
   "cell_type": "markdown",
   "id": "bb0177d8",
   "metadata": {},
   "source": [
    "# Simple Regresi Linear"
   ]
  },
  {
   "cell_type": "code",
   "execution_count": 1,
   "id": "253ca09f",
   "metadata": {},
   "outputs": [],
   "source": [
    "import pandas as pd\n",
    "import numpy as np\n",
    "import seaborn as sns\n",
    "import sklearn.model_selection as ms\n",
    "import matplotlib.pyplot as plt\n",
    "import sklearn.linear_model as lm\n",
    "from sklearn.metrics import mean_squared_error"
   ]
  },
  {
   "cell_type": "markdown",
   "id": "5efa12f5",
   "metadata": {},
   "source": [
    "## Case 1\n"
   ]
  },
  {
   "cell_type": "markdown",
   "id": "35daff94",
   "metadata": {},
   "source": [
    "### Persiapan data dan EDA"
   ]
  },
  {
   "cell_type": "code",
   "execution_count": 2,
   "id": "af41fce1",
   "metadata": {},
   "outputs": [
    {
     "data": {
      "text/html": [
       "<div>\n",
       "<style scoped>\n",
       "    .dataframe tbody tr th:only-of-type {\n",
       "        vertical-align: middle;\n",
       "    }\n",
       "\n",
       "    .dataframe tbody tr th {\n",
       "        vertical-align: top;\n",
       "    }\n",
       "\n",
       "    .dataframe thead th {\n",
       "        text-align: right;\n",
       "    }\n",
       "</style>\n",
       "<table border=\"1\" class=\"dataframe\">\n",
       "  <thead>\n",
       "    <tr style=\"text-align: right;\">\n",
       "      <th></th>\n",
       "      <th>Rata - rata suhu</th>\n",
       "      <th>Jumlah produk cacat</th>\n",
       "    </tr>\n",
       "  </thead>\n",
       "  <tbody>\n",
       "    <tr>\n",
       "      <th>0</th>\n",
       "      <td>27</td>\n",
       "      <td>13</td>\n",
       "    </tr>\n",
       "    <tr>\n",
       "      <th>1</th>\n",
       "      <td>28</td>\n",
       "      <td>16</td>\n",
       "    </tr>\n",
       "    <tr>\n",
       "      <th>2</th>\n",
       "      <td>25</td>\n",
       "      <td>12</td>\n",
       "    </tr>\n",
       "    <tr>\n",
       "      <th>3</th>\n",
       "      <td>26</td>\n",
       "      <td>14</td>\n",
       "    </tr>\n",
       "    <tr>\n",
       "      <th>4</th>\n",
       "      <td>24</td>\n",
       "      <td>12</td>\n",
       "    </tr>\n",
       "  </tbody>\n",
       "</table>\n",
       "</div>"
      ],
      "text/plain": [
       "   Rata - rata suhu  Jumlah produk cacat\n",
       "0                27                   13\n",
       "1                28                   16\n",
       "2                25                   12\n",
       "3                26                   14\n",
       "4                24                   12"
      ]
     },
     "execution_count": 2,
     "metadata": {},
     "output_type": "execute_result"
    }
   ],
   "source": [
    "data_regresi = {\n",
    "    'Rata - rata suhu':[27,28,25,26,24,27,23,24,23,22,21,26,25,26,27,24,22,21,20,22,19,20,23,24,25,21,20,20,19,25],\n",
    "    'Jumlah produk cacat':[13,16,12,14,12,16,9,13,11,7,5,12,11,13,14,11,5,6,3,6,4,5,9,10,13,7,4,6,3,12]\n",
    "}\n",
    "data_regresi = pd.DataFrame(data_regresi)\n",
    "data_regresi.head()"
   ]
  },
  {
   "cell_type": "code",
   "execution_count": 3,
   "id": "2ab7ef18",
   "metadata": {},
   "outputs": [
    {
     "data": {
      "text/html": [
       "<div>\n",
       "<style scoped>\n",
       "    .dataframe tbody tr th:only-of-type {\n",
       "        vertical-align: middle;\n",
       "    }\n",
       "\n",
       "    .dataframe tbody tr th {\n",
       "        vertical-align: top;\n",
       "    }\n",
       "\n",
       "    .dataframe thead th {\n",
       "        text-align: right;\n",
       "    }\n",
       "</style>\n",
       "<table border=\"1\" class=\"dataframe\">\n",
       "  <thead>\n",
       "    <tr style=\"text-align: right;\">\n",
       "      <th></th>\n",
       "      <th>Rata - rata suhu</th>\n",
       "      <th>Jumlah produk cacat</th>\n",
       "    </tr>\n",
       "  </thead>\n",
       "  <tbody>\n",
       "    <tr>\n",
       "      <th>count</th>\n",
       "      <td>30.000000</td>\n",
       "      <td>30.000000</td>\n",
       "    </tr>\n",
       "    <tr>\n",
       "      <th>mean</th>\n",
       "      <td>23.300000</td>\n",
       "      <td>9.400000</td>\n",
       "    </tr>\n",
       "    <tr>\n",
       "      <th>std</th>\n",
       "      <td>2.628098</td>\n",
       "      <td>3.987913</td>\n",
       "    </tr>\n",
       "    <tr>\n",
       "      <th>min</th>\n",
       "      <td>19.000000</td>\n",
       "      <td>3.000000</td>\n",
       "    </tr>\n",
       "    <tr>\n",
       "      <th>25%</th>\n",
       "      <td>21.000000</td>\n",
       "      <td>6.000000</td>\n",
       "    </tr>\n",
       "    <tr>\n",
       "      <th>50%</th>\n",
       "      <td>23.500000</td>\n",
       "      <td>10.500000</td>\n",
       "    </tr>\n",
       "    <tr>\n",
       "      <th>75%</th>\n",
       "      <td>25.000000</td>\n",
       "      <td>12.750000</td>\n",
       "    </tr>\n",
       "    <tr>\n",
       "      <th>max</th>\n",
       "      <td>28.000000</td>\n",
       "      <td>16.000000</td>\n",
       "    </tr>\n",
       "  </tbody>\n",
       "</table>\n",
       "</div>"
      ],
      "text/plain": [
       "       Rata - rata suhu  Jumlah produk cacat\n",
       "count         30.000000            30.000000\n",
       "mean          23.300000             9.400000\n",
       "std            2.628098             3.987913\n",
       "min           19.000000             3.000000\n",
       "25%           21.000000             6.000000\n",
       "50%           23.500000            10.500000\n",
       "75%           25.000000            12.750000\n",
       "max           28.000000            16.000000"
      ]
     },
     "execution_count": 3,
     "metadata": {},
     "output_type": "execute_result"
    }
   ],
   "source": [
    "data_regresi.describe()"
   ]
  },
  {
   "cell_type": "code",
   "execution_count": 4,
   "id": "db476cf7",
   "metadata": {},
   "outputs": [
    {
     "data": {
      "text/plain": [
       "Rata - rata suhu       0\n",
       "Jumlah produk cacat    0\n",
       "dtype: int64"
      ]
     },
     "execution_count": 4,
     "metadata": {},
     "output_type": "execute_result"
    }
   ],
   "source": [
    "data_regresi.isnull().sum()"
   ]
  },
  {
   "cell_type": "code",
   "execution_count": 5,
   "id": "d1ec7433",
   "metadata": {},
   "outputs": [
    {
     "data": {
      "text/plain": [
       "(30, 2)"
      ]
     },
     "execution_count": 5,
     "metadata": {},
     "output_type": "execute_result"
    }
   ],
   "source": [
    "data_regresi.shape"
   ]
  },
  {
   "cell_type": "code",
   "execution_count": 6,
   "id": "32f7ef09",
   "metadata": {},
   "outputs": [
    {
     "name": "stdout",
     "output_type": "stream",
     "text": [
      "<class 'pandas.core.frame.DataFrame'>\n",
      "RangeIndex: 30 entries, 0 to 29\n",
      "Data columns (total 2 columns):\n",
      " #   Column               Non-Null Count  Dtype\n",
      "---  ------               --------------  -----\n",
      " 0   Rata - rata suhu     30 non-null     int64\n",
      " 1   Jumlah produk cacat  30 non-null     int64\n",
      "dtypes: int64(2)\n",
      "memory usage: 608.0 bytes\n"
     ]
    }
   ],
   "source": [
    "data_regresi.info()"
   ]
  },
  {
   "cell_type": "markdown",
   "id": "46a2b818",
   "metadata": {},
   "source": [
    "### Memisahkan data (Training dan Test Dataset)"
   ]
  },
  {
   "cell_type": "markdown",
   "id": "1bdafd65",
   "metadata": {},
   "source": [
    "Dalam pemisahan data menggunakan fungsi *train_test_split()* untuk memisahkan *training dataset* dengan *test dataset* secara acak. Menggunakan parameter *test_size = 0.2* yang artinya 20% dari seluruh dataset akan dijadikan *test dataset*.\n",
    "\n",
    "Ada semacam kesepakatan untuk menggunakan huruf X untuk mewakili feature dan huruf y untuk mewakili target feature. Feature di training dataset diwakili oleh X_train, feature di test dataset diwakili X_test. y_train dan y_test mewakili target untuk training dan test dataset"
   ]
  },
  {
   "cell_type": "code",
   "execution_count": 24,
   "id": "01432225",
   "metadata": {},
   "outputs": [
    {
     "name": "stdout",
     "output_type": "stream",
     "text": [
      "24 6\n"
     ]
    }
   ],
   "source": [
    "suhu = data_regresi[['Rata - rata suhu']] #x\n",
    "cacat = data_regresi[['Jumlah produk cacat']]#y\n",
    "\n",
    "X_train, X_test, y_train, y_test = ms.train_test_split(suhu, cacat, test_size=0.2, random_state=0)\n",
    "print(X_train.size, X_test.size)"
   ]
  },
  {
   "cell_type": "markdown",
   "id": "102dc2f7",
   "metadata": {},
   "source": [
    "### Visualisasi"
   ]
  },
  {
   "cell_type": "code",
   "execution_count": 5,
   "id": "a8d18a3d",
   "metadata": {},
   "outputs": [
    {
     "data": {
      "image/png": "[encoded data removed]",
      "text/plain": [
       "<Figure size 864x288 with 2 Axes>"
      ]
     },
     "metadata": {
      "needs_background": "light"
     },
     "output_type": "display_data"
    }
   ],
   "source": [
    "#Univariate analysis rata - rata suhu.\n",
    "#Melihat distribusi dari rata - rata suhu.\n",
    "\n",
    "f = plt.figure(figsize=(12,4))\n",
    "f.add_subplot(1,2,1)\n",
    "data_regresi['Rata - rata suhu'].plot(kind='kde')\n",
    "f.add_subplot(1,2,2)\n",
    "plt.boxplot(data_regresi['Rata - rata suhu'])\n",
    "plt.show()"
   ]
  },
  {
   "cell_type": "code",
   "execution_count": 9,
   "id": "b5f68750",
   "metadata": {},
   "outputs": [
    {
     "data": {
      "image/png": "[encoded data removed]",
      "text/plain": [
       "<Figure size 864x288 with 2 Axes>"
      ]
     },
     "metadata": {
      "needs_background": "light"
     },
     "output_type": "display_data"
    }
   ],
   "source": [
    "#Univariate analysis jumlah produk cacat.\n",
    "#Melihat distribusi dari jumlah produk cacat.\n",
    "\n",
    "f = plt.figure(figsize=(12,4))\n",
    "f.add_subplot(1,2,1)\n",
    "data_regresi['Jumlah produk cacat'].plot(kind='kde')\n",
    "f.add_subplot(1,2,2)\n",
    "plt.boxplot(data_regresi['Jumlah produk cacat'])\n",
    "plt.show()"
   ]
  },
  {
   "cell_type": "code",
   "execution_count": 15,
   "id": "dbf5f386",
   "metadata": {},
   "outputs": [
    {
     "data": {
      "image/png": "[encoded data removed]",
      "text/plain": [
       "<Figure size 432x288 with 1 Axes>"
      ]
     },
     "metadata": {
      "needs_background": "light"
     },
     "output_type": "display_data"
    }
   ],
   "source": [
    "#Bivariate analysis\n",
    "#Menggunakan scatter plot.\n",
    "plt.scatter(data_regresi['Rata - rata suhu'], data_regresi['Jumlah produk cacat'])\n",
    "plt.xlabel('Rata - rata suhu')\n",
    "plt.ylabel('Jumlah produk cacat')\n",
    "plt.title('Scatter Plot Rerata Suhu vs Jumlah Produk Cacat')\n",
    "plt.show()"
   ]
  },
  {
   "cell_type": "code",
   "execution_count": 16,
   "id": "b3529592",
   "metadata": {},
   "outputs": [
    {
     "data": {
      "text/html": [
       "<div>\n",
       "<style scoped>\n",
       "    .dataframe tbody tr th:only-of-type {\n",
       "        vertical-align: middle;\n",
       "    }\n",
       "\n",
       "    .dataframe tbody tr th {\n",
       "        vertical-align: top;\n",
       "    }\n",
       "\n",
       "    .dataframe thead th {\n",
       "        text-align: right;\n",
       "    }\n",
       "</style>\n",
       "<table border=\"1\" class=\"dataframe\">\n",
       "  <thead>\n",
       "    <tr style=\"text-align: right;\">\n",
       "      <th></th>\n",
       "      <th>Rata - rata suhu</th>\n",
       "      <th>Jumlah produk cacat</th>\n",
       "    </tr>\n",
       "  </thead>\n",
       "  <tbody>\n",
       "    <tr>\n",
       "      <th>Rata - rata suhu</th>\n",
       "      <td>1.000000</td>\n",
       "      <td>0.955458</td>\n",
       "    </tr>\n",
       "    <tr>\n",
       "      <th>Jumlah produk cacat</th>\n",
       "      <td>0.955458</td>\n",
       "      <td>1.000000</td>\n",
       "    </tr>\n",
       "  </tbody>\n",
       "</table>\n",
       "</div>"
      ],
      "text/plain": [
       "                     Rata - rata suhu  Jumlah produk cacat\n",
       "Rata - rata suhu             1.000000             0.955458\n",
       "Jumlah produk cacat          0.955458             1.000000"
      ]
     },
     "execution_count": 16,
     "metadata": {},
     "output_type": "execute_result"
    }
   ],
   "source": [
    "#Mengetahui nilai korelasi dari rerata suhu dengan jumlah produk cacat\n",
    "data_regresi.corr()"
   ]
  },
  {
   "cell_type": "markdown",
   "id": "e9a941b2",
   "metadata": {},
   "source": [
    "Nilai korelasi antara rata - rata suhu dengan jumlah produk cacat cukup tinggi yaitu 0.95 "
   ]
  },
  {
   "cell_type": "markdown",
   "id": "69b2a252",
   "metadata": {},
   "source": [
    "### Pemodelan"
   ]
  },
  {
   "cell_type": "code",
   "execution_count": 17,
   "id": "e8dea390",
   "metadata": {},
   "outputs": [
    {
     "data": {
      "text/html": [
       "<style>#sk-container-id-1 {color: black;background-color: white;}#sk-container-id-1 pre{padding: 0;}#sk-container-id-1 div.sk-toggleable {background-color: white;}#sk-container-id-1 label.sk-toggleable__label {cursor: pointer;display: block;width: 100%;margin-bottom: 0;padding: 0.3em;box-sizing: border-box;text-align: center;}#sk-container-id-1 label.sk-toggleable__label-arrow:before {content: \"▸\";float: left;margin-right: 0.25em;color: #696969;}#sk-container-id-1 label.sk-toggleable__label-arrow:hover:before {color: black;}#sk-container-id-1 div.sk-estimator:hover label.sk-toggleable__label-arrow:before {color: black;}#sk-container-id-1 div.sk-toggleable__content {max-height: 0;max-width: 0;overflow: hidden;text-align: left;background-color: #f0f8ff;}#sk-container-id-1 div.sk-toggleable__content pre {margin: 0.2em;color: black;border-radius: 0.25em;background-color: #f0f8ff;}#sk-container-id-1 input.sk-toggleable__control:checked~div.sk-toggleable__content {max-height: 200px;max-width: 100%;overflow: auto;}#sk-container-id-1 input.sk-toggleable__control:checked~label.sk-toggleable__label-arrow:before {content: \"▾\";}#sk-container-id-1 div.sk-estimator input.sk-toggleable__control:checked~label.sk-toggleable__label {background-color: #d4ebff;}#sk-container-id-1 div.sk-label input.sk-toggleable__control:checked~label.sk-toggleable__label {background-color: #d4ebff;}#sk-container-id-1 input.sk-hidden--visually {border: 0;clip: rect(1px 1px 1px 1px);clip: rect(1px, 1px, 1px, 1px);height: 1px;margin: -1px;overflow: hidden;padding: 0;position: absolute;width: 1px;}#sk-container-id-1 div.sk-estimator {font-family: monospace;background-color: #f0f8ff;border: 1px dotted black;border-radius: 0.25em;box-sizing: border-box;margin-bottom: 0.5em;}#sk-container-id-1 div.sk-estimator:hover {background-color: #d4ebff;}#sk-container-id-1 div.sk-parallel-item::after {content: \"\";width: 100%;border-bottom: 1px solid gray;flex-grow: 1;}#sk-container-id-1 div.sk-label:hover label.sk-toggleable__label {background-color: #d4ebff;}#sk-container-id-1 div.sk-serial::before {content: \"\";position: absolute;border-left: 1px solid gray;box-sizing: border-box;top: 0;bottom: 0;left: 50%;z-index: 0;}#sk-container-id-1 div.sk-serial {display: flex;flex-direction: column;align-items: center;background-color: white;padding-right: 0.2em;padding-left: 0.2em;position: relative;}#sk-container-id-1 div.sk-item {position: relative;z-index: 1;}#sk-container-id-1 div.sk-parallel {display: flex;align-items: stretch;justify-content: center;background-color: white;position: relative;}#sk-container-id-1 div.sk-item::before, #sk-container-id-1 div.sk-parallel-item::before {content: \"\";position: absolute;border-left: 1px solid gray;box-sizing: border-box;top: 0;bottom: 0;left: 50%;z-index: -1;}#sk-container-id-1 div.sk-parallel-item {display: flex;flex-direction: column;z-index: 1;position: relative;background-color: white;}#sk-container-id-1 div.sk-parallel-item:first-child::after {align-self: flex-end;width: 50%;}#sk-container-id-1 div.sk-parallel-item:last-child::after {align-self: flex-start;width: 50%;}#sk-container-id-1 div.sk-parallel-item:only-child::after {width: 0;}#sk-container-id-1 div.sk-dashed-wrapped {border: 1px dashed gray;margin: 0 0.4em 0.5em 0.4em;box-sizing: border-box;padding-bottom: 0.4em;background-color: white;}#sk-container-id-1 div.sk-label label {font-family: monospace;font-weight: bold;display: inline-block;line-height: 1.2em;}#sk-container-id-1 div.sk-label-container {text-align: center;}#sk-container-id-1 div.sk-container {/* jupyter's `normalize.less` sets `[hidden] { display: none; }` but bootstrap.min.css set `[hidden] { display: none !important; }` so we also need the `!important` here to be able to override the default hidden behavior on the sphinx rendered scikit-learn.org. See: https://github.com/scikit-learn/scikit-learn/issues/21755 */display: inline-block !important;position: relative;}#sk-container-id-1 div.sk-text-repr-fallback {display: none;}</style><div id=\"sk-container-id-1\" class=\"sk-top-container\"><div class=\"sk-text-repr-fallback\"><pre>LinearRegression()</pre><b>In a Jupyter environment, please rerun this cell to show the HTML representation or trust the notebook. <br />On GitHub, the HTML representation is unable to render, please try loading this page with nbviewer.org.</b></div><div class=\"sk-container\" hidden><div class=\"sk-item\"><div class=\"sk-estimator sk-toggleable\"><input class=\"sk-toggleable__control sk-hidden--visually\" id=\"sk-estimator-id-1\" type=\"checkbox\" checked><label for=\"sk-estimator-id-1\" class=\"sk-toggleable__label sk-toggleable__label-arrow\">LinearRegression</label><div class=\"sk-toggleable__content\"><pre>LinearRegression()</pre></div></div></div></div></div>"
      ],
      "text/plain": [
       "LinearRegression()"
      ]
     },
     "execution_count": 17,
     "metadata": {},
     "output_type": "execute_result"
    }
   ],
   "source": [
    "model = lm.LinearRegression()\n",
    "model.fit(X_train, y_train)"
   ]
  },
  {
   "cell_type": "code",
   "execution_count": 18,
   "id": "e1c38d5a",
   "metadata": {},
   "outputs": [
    {
     "name": "stdout",
     "output_type": "stream",
     "text": [
      "Y = -23.32 + 1.41X\n"
     ]
    }
   ],
   "source": [
    "print(f\"Y = {model.intercept_[0]:.2f} + {model.coef_[0][0]:.2f}X\")"
   ]
  },
  {
   "cell_type": "code",
   "execution_count": 22,
   "id": "0f937521",
   "metadata": {},
   "outputs": [
    {
     "data": {
      "text/plain": [
       "array([[11.83438443],\n",
       "       [ 3.39786126],\n",
       "       [13.24047162],\n",
       "       [ 6.21003565],\n",
       "       [ 4.80394845],\n",
       "       [11.83438443]])"
      ]
     },
     "execution_count": 22,
     "metadata": {},
     "output_type": "execute_result"
    }
   ],
   "source": [
    "prediksi = model.predict(X_test)\n",
    "prediksi"
   ]
  },
  {
   "cell_type": "markdown",
   "id": "20fd9184",
   "metadata": {},
   "source": [
    "### Scoring Model"
   ]
  },
  {
   "cell_type": "code",
   "execution_count": 15,
   "id": "74312cb1",
   "metadata": {},
   "outputs": [
    {
     "data": {
      "text/plain": [
       "0.9678087190129042"
      ]
     },
     "execution_count": 15,
     "metadata": {},
     "output_type": "execute_result"
    }
   ],
   "source": [
    "r2 = model.score(X_test, y_test)\n",
    "r2"
   ]
  },
  {
   "cell_type": "code",
   "execution_count": 16,
   "id": "d0a412b5",
   "metadata": {},
   "outputs": [
    {
     "data": {
      "text/plain": [
       "0.6187879567519529"
      ]
     },
     "execution_count": 16,
     "metadata": {},
     "output_type": "execute_result"
    }
   ],
   "source": [
    "mse = mean_squared_error(y_test, prediksi)\n",
    "mse"
   ]
  },
  {
   "cell_type": "code",
   "execution_count": 19,
   "id": "51aef5c2",
   "metadata": {},
   "outputs": [
    {
     "name": "stdout",
     "output_type": "stream",
     "text": [
      "    Jumlah produk cacat\n",
      "2                    12\n",
      "28                    3\n",
      "13                   13\n",
      "10                    5\n",
      "26                    4\n",
      "24                   13\n"
     ]
    }
   ],
   "source": [
    "print(y_test)"
   ]
  },
  {
   "cell_type": "markdown",
   "id": "a15ca3f2",
   "metadata": {},
   "source": [
    "## CASE 2 (Scratch)"
   ]
  },
  {
   "cell_type": "code",
   "execution_count": 27,
   "id": "9d103a92",
   "metadata": {},
   "outputs": [
    {
     "data": {
      "text/html": [
       "<div>\n",
       "<style scoped>\n",
       "    .dataframe tbody tr th:only-of-type {\n",
       "        vertical-align: middle;\n",
       "    }\n",
       "\n",
       "    .dataframe tbody tr th {\n",
       "        vertical-align: top;\n",
       "    }\n",
       "\n",
       "    .dataframe thead th {\n",
       "        text-align: right;\n",
       "    }\n",
       "</style>\n",
       "<table border=\"1\" class=\"dataframe\">\n",
       "  <thead>\n",
       "    <tr style=\"text-align: right;\">\n",
       "      <th></th>\n",
       "      <th>Biaya Iklan</th>\n",
       "      <th>Pendapatan</th>\n",
       "    </tr>\n",
       "  </thead>\n",
       "  <tbody>\n",
       "    <tr>\n",
       "      <th>0</th>\n",
       "      <td>15</td>\n",
       "      <td>65</td>\n",
       "    </tr>\n",
       "    <tr>\n",
       "      <th>1</th>\n",
       "      <td>13</td>\n",
       "      <td>61</td>\n",
       "    </tr>\n",
       "    <tr>\n",
       "      <th>2</th>\n",
       "      <td>14</td>\n",
       "      <td>60</td>\n",
       "    </tr>\n",
       "    <tr>\n",
       "      <th>3</th>\n",
       "      <td>15</td>\n",
       "      <td>63</td>\n",
       "    </tr>\n",
       "    <tr>\n",
       "      <th>4</th>\n",
       "      <td>13</td>\n",
       "      <td>59</td>\n",
       "    </tr>\n",
       "    <tr>\n",
       "      <th>5</th>\n",
       "      <td>14</td>\n",
       "      <td>62</td>\n",
       "    </tr>\n",
       "    <tr>\n",
       "      <th>6</th>\n",
       "      <td>12</td>\n",
       "      <td>56</td>\n",
       "    </tr>\n",
       "    <tr>\n",
       "      <th>7</th>\n",
       "      <td>14</td>\n",
       "      <td>61</td>\n",
       "    </tr>\n",
       "    <tr>\n",
       "      <th>8</th>\n",
       "      <td>13</td>\n",
       "      <td>60</td>\n",
       "    </tr>\n",
       "    <tr>\n",
       "      <th>9</th>\n",
       "      <td>12</td>\n",
       "      <td>58</td>\n",
       "    </tr>\n",
       "  </tbody>\n",
       "</table>\n",
       "</div>"
      ],
      "text/plain": [
       "   Biaya Iklan  Pendapatan\n",
       "0           15          65\n",
       "1           13          61\n",
       "2           14          60\n",
       "3           15          63\n",
       "4           13          59\n",
       "5           14          62\n",
       "6           12          56\n",
       "7           14          61\n",
       "8           13          60\n",
       "9           12          58"
      ]
     },
     "execution_count": 27,
     "metadata": {},
     "output_type": "execute_result"
    }
   ],
   "source": [
    "data2 ={\n",
    "    'Biaya Iklan':[15,13,14,15,13,14,12,14,13,12],\n",
    "    'Pendapatan':[65,61,60,63,59,62,56,61,60,58]\n",
    "}\n",
    "data2 = pd.DataFrame(data2)\n",
    "data2"
   ]
  },
  {
   "cell_type": "code",
   "execution_count": 37,
   "id": "5e36e508",
   "metadata": {},
   "outputs": [],
   "source": [
    "#Menentukan variabel x(variabel bebas) dan y (variabel terikat / predictor)\n",
    "X = data2['Biaya Iklan']\n",
    "Y = data2['Pendapatan']"
   ]
  },
  {
   "cell_type": "code",
   "execution_count": 38,
   "id": "1f94ad08",
   "metadata": {},
   "outputs": [
    {
     "data": {
      "text/html": [
       "<div>\n",
       "<style scoped>\n",
       "    .dataframe tbody tr th:only-of-type {\n",
       "        vertical-align: middle;\n",
       "    }\n",
       "\n",
       "    .dataframe tbody tr th {\n",
       "        vertical-align: top;\n",
       "    }\n",
       "\n",
       "    .dataframe thead th {\n",
       "        text-align: right;\n",
       "    }\n",
       "</style>\n",
       "<table border=\"1\" class=\"dataframe\">\n",
       "  <thead>\n",
       "    <tr style=\"text-align: right;\">\n",
       "      <th></th>\n",
       "      <th>X</th>\n",
       "      <th>Y</th>\n",
       "      <th>X2</th>\n",
       "      <th>Y2</th>\n",
       "      <th>XY</th>\n",
       "    </tr>\n",
       "  </thead>\n",
       "  <tbody>\n",
       "    <tr>\n",
       "      <th>0</th>\n",
       "      <td>15</td>\n",
       "      <td>65</td>\n",
       "      <td>225</td>\n",
       "      <td>4225</td>\n",
       "      <td>975</td>\n",
       "    </tr>\n",
       "    <tr>\n",
       "      <th>1</th>\n",
       "      <td>13</td>\n",
       "      <td>61</td>\n",
       "      <td>169</td>\n",
       "      <td>3721</td>\n",
       "      <td>793</td>\n",
       "    </tr>\n",
       "    <tr>\n",
       "      <th>2</th>\n",
       "      <td>14</td>\n",
       "      <td>60</td>\n",
       "      <td>196</td>\n",
       "      <td>3600</td>\n",
       "      <td>840</td>\n",
       "    </tr>\n",
       "    <tr>\n",
       "      <th>3</th>\n",
       "      <td>15</td>\n",
       "      <td>63</td>\n",
       "      <td>225</td>\n",
       "      <td>3969</td>\n",
       "      <td>945</td>\n",
       "    </tr>\n",
       "    <tr>\n",
       "      <th>4</th>\n",
       "      <td>13</td>\n",
       "      <td>59</td>\n",
       "      <td>169</td>\n",
       "      <td>3481</td>\n",
       "      <td>767</td>\n",
       "    </tr>\n",
       "    <tr>\n",
       "      <th>5</th>\n",
       "      <td>14</td>\n",
       "      <td>62</td>\n",
       "      <td>196</td>\n",
       "      <td>3844</td>\n",
       "      <td>868</td>\n",
       "    </tr>\n",
       "    <tr>\n",
       "      <th>6</th>\n",
       "      <td>12</td>\n",
       "      <td>56</td>\n",
       "      <td>144</td>\n",
       "      <td>3136</td>\n",
       "      <td>672</td>\n",
       "    </tr>\n",
       "    <tr>\n",
       "      <th>7</th>\n",
       "      <td>14</td>\n",
       "      <td>61</td>\n",
       "      <td>196</td>\n",
       "      <td>3721</td>\n",
       "      <td>854</td>\n",
       "    </tr>\n",
       "    <tr>\n",
       "      <th>8</th>\n",
       "      <td>13</td>\n",
       "      <td>60</td>\n",
       "      <td>169</td>\n",
       "      <td>3600</td>\n",
       "      <td>780</td>\n",
       "    </tr>\n",
       "    <tr>\n",
       "      <th>9</th>\n",
       "      <td>12</td>\n",
       "      <td>58</td>\n",
       "      <td>144</td>\n",
       "      <td>3364</td>\n",
       "      <td>696</td>\n",
       "    </tr>\n",
       "    <tr>\n",
       "      <th>Jumlah</th>\n",
       "      <td>135</td>\n",
       "      <td>605</td>\n",
       "      <td>1833</td>\n",
       "      <td>36661</td>\n",
       "      <td>8190</td>\n",
       "    </tr>\n",
       "  </tbody>\n",
       "</table>\n",
       "</div>"
      ],
      "text/plain": [
       "          X    Y    X2     Y2    XY\n",
       "0        15   65   225   4225   975\n",
       "1        13   61   169   3721   793\n",
       "2        14   60   196   3600   840\n",
       "3        15   63   225   3969   945\n",
       "4        13   59   169   3481   767\n",
       "5        14   62   196   3844   868\n",
       "6        12   56   144   3136   672\n",
       "7        14   61   196   3721   854\n",
       "8        13   60   169   3600   780\n",
       "9        12   58   144   3364   696\n",
       "Jumlah  135  605  1833  36661  8190"
      ]
     },
     "execution_count": 38,
     "metadata": {},
     "output_type": "execute_result"
    }
   ],
   "source": [
    "#Menghitung nilai x^2, y^2, dan xy\n",
    "X2 = X**2\n",
    "Y2 = Y**2\n",
    "XY = X*Y\n",
    "\n",
    "hasil = {\n",
    "    'X' : X,\n",
    "    'Y': Y,\n",
    "    'X2': X2,\n",
    "    'Y2':Y2,\n",
    "    'XY':XY\n",
    "}\n",
    "hasil = pd.DataFrame(hasil)\n",
    "\n",
    "#Menghitung jumlah masing2 kolom\n",
    "total = hasil.sum()\n",
    "\n",
    "#Membuat dataframe baru dengan baris \"Jumlah\"\n",
    "jumlah = pd.DataFrame([total.values], columns=total.index, index=['Jumlah'])\n",
    "\n",
    "#Menggabungkan dataframe hasil dengan dataframe jumlah\n",
    "hasil = pd.concat([hasil,jumlah])\n",
    "\n",
    "hasil"
   ]
  },
  {
   "cell_type": "code",
   "execution_count": 39,
   "id": "36297d9c",
   "metadata": {},
   "outputs": [
    {
     "name": "stdout",
     "output_type": "stream",
     "text": [
      "Y = 31.57 + 2.14X\n"
     ]
    }
   ],
   "source": [
    "#Variabel total dari masing - masing kolom\n",
    "total_X = X.sum()\n",
    "total_Y = Y.sum()\n",
    "total_XY = XY.sum()\n",
    "total_X2 = X2.sum()\n",
    "total_Y2 = Y2.sum()\n",
    "n = len(hasil) - 1\n",
    "\n",
    "#Menghitung konstanta (intersep) dan koefisien(Slope)\n",
    "intersep = ((total_Y*total_X2)-(total_X * total_XY)) / ((n*total_X2) - total_X**2)\n",
    "koefisien = ((n*total_XY) - (total_X * total_Y)) / ((n*total_X2) - total_X**2)\n",
    "\n",
    "print(f\"Y = {intersep:.2f} + {koefisien:.2f}X\")"
   ]
  },
  {
   "cell_type": "code",
   "execution_count": 11,
   "id": "73bbb1cc",
   "metadata": {},
   "outputs": [
    {
     "name": "stdout",
     "output_type": "stream",
     "text": [
      "Nilai korelasi: 0.908\n"
     ]
    }
   ],
   "source": [
    "#Menghitung Korelasi\n",
    "import math\n",
    "r = ((n*total_XY)-(total_X*total_Y)) / math.sqrt(((n*total_X2) - (total_X**2))*((n*total_Y2)-total_Y**2))\n",
    "\n",
    "print(f\"Nilai korelasi: {r:.3f}\")"
   ]
  },
  {
   "cell_type": "code",
   "execution_count": 12,
   "id": "26f2f2ca",
   "metadata": {},
   "outputs": [
    {
     "data": {
      "text/plain": [
       "106.57142857142857"
      ]
     },
     "execution_count": 12,
     "metadata": {},
     "output_type": "execute_result"
    }
   ],
   "source": [
    "#Melakukan prediksi\n",
    "x = 35\n",
    "hasil_prediksi = intersep + koefisien*x\n",
    "hasil_prediksi"
   ]
  },
  {
   "cell_type": "code",
   "execution_count": 14,
   "id": "c4e9d8b8",
   "metadata": {},
   "outputs": [
    {
     "data": {
      "image/png": "[encoded data removed]",
      "text/plain": [
       "<Figure size 432x288 with 1 Axes>"
      ]
     },
     "metadata": {
      "needs_background": "light"
     },
     "output_type": "display_data"
    }
   ],
   "source": [
    "plt.scatter(X, Y)\n",
    "plt.xlabel('Biaya Iklan')\n",
    "plt.ylabel('Pendapatan')\n",
    "plt.show()"
   ]
  }
 ],
 "metadata": {
  "kernelspec": {
   "display_name": "Python 3 (ipykernel)",
   "language": "python",
   "name": "python3"
  },
  "language_info": {
   "codemirror_mode": {
    "name": "ipython",
    "version": 3
   },
   "file_extension": ".py",
   "mimetype": "text/x-python",
   "name": "python",
   "nbconvert_exporter": "python",
   "pygments_lexer": "ipython3",
   "version": "3.9.2"
  }
 },
 "nbformat": 4,
 "nbformat_minor": 5
}
